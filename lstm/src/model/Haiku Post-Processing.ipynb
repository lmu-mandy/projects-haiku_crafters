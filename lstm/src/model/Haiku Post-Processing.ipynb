{
 "cells": [
  {
   "cell_type": "code",
   "execution_count": 105,
   "metadata": {},
   "outputs": [],
   "source": [
    "import sys\n",
    "import re\n",
    "sys.path.append(r'../../../')\n",
    "\n",
    "import torch\n",
    "import syllables\n",
    "from model import CharRNN, sample"
   ]
  },
  {
   "cell_type": "markdown",
   "metadata": {},
   "source": [
    "Load checkpoint from model and generate some text"
   ]
  },
  {
   "cell_type": "code",
   "execution_count": 106,
   "metadata": {},
   "outputs": [],
   "source": [
    "with open('./checkpoints/rnn (haikus).net', 'rb') as f:\n",
    "    checkpoint = torch.load(f)\n"
   ]
  },
  {
   "cell_type": "code",
   "execution_count": 107,
   "metadata": {},
   "outputs": [
    {
     "data": {
      "text/plain": [
       "<All keys matched successfully>"
      ]
     },
     "execution_count": 107,
     "metadata": {},
     "output_type": "execute_result"
    }
   ],
   "source": [
    "loaded = CharRNN(checkpoint['tokens'], n_hidden=checkpoint['n_hidden'], n_layers=checkpoint['n_layers'])\n",
    "loaded.load_state_dict(checkpoint['state_dict'])"
   ]
  },
  {
   "cell_type": "markdown",
   "metadata": {},
   "source": [
    "Normalize the text, clean up stray spaces, and split properly"
   ]
  },
  {
   "cell_type": "code",
   "execution_count": 108,
   "metadata": {},
   "outputs": [
    {
     "data": {
      "text/plain": [
       "['kitten',\n",
       " \"would've\",\n",
       " 'been',\n",
       " 'hot',\n",
       " 'stars',\n",
       " 'with',\n",
       " 'the',\n",
       " 'best',\n",
       " 'are',\n",
       " 'you',\n",
       " 'going',\n",
       " 'at',\n",
       " 'a',\n",
       " 'championship',\n",
       " 'I',\n",
       " 'ca']"
      ]
     },
     "execution_count": 108,
     "metadata": {},
     "output_type": "execute_result"
    }
   ],
   "source": [
    "haiku = sample(loaded, 75, cuda=True, top_k=5, prime=\"kitten\")\n",
    "haiku = haiku.replace(\"\\n\", \" \")\n",
    "haiku = \" \".join(haiku.split())\n",
    "haiku = haiku.split(\" \")\n",
    "haiku = [word if re.findall(\"I\", word) else word.lower() for word in haiku]\n",
    "haiku"
   ]
  },
  {
   "cell_type": "markdown",
   "metadata": {},
   "source": [
    "Create generator for iteration & break lines according to haiku syllable structure"
   ]
  },
  {
   "cell_type": "code",
   "execution_count": 109,
   "metadata": {},
   "outputs": [],
   "source": [
    "haiku_gen = (word for word in haiku)"
   ]
  },
  {
   "cell_type": "code",
   "execution_count": 110,
   "metadata": {},
   "outputs": [],
   "source": [
    "haiku_with_line_breaks = \"\"\n",
    "running_syllable_count = 0\n",
    "line_number = 0\n",
    "while line_number < 3:\n",
    "    word = next(haiku_gen)\n",
    "    running_syllable_count += syllables.estimate(word)\n",
    "    if running_syllable_count >= 5 and line_number in (0, 2):\n",
    "        haiku_with_line_breaks += f\"{word}\\n\"\n",
    "        line_number += 1\n",
    "        running_syllable_count = 0\n",
    "    elif running_syllable_count >= 7 and line_number == 1:\n",
    "        haiku_with_line_breaks += f\"{word}\\n\"\n",
    "        line_number += 1\n",
    "        running_syllable_count = 0\n",
    "    else:\n",
    "        haiku_with_line_breaks += f\"{word} \"\n",
    "\n"
   ]
  },
  {
   "cell_type": "code",
   "execution_count": 111,
   "metadata": {},
   "outputs": [
    {
     "data": {
      "text/plain": [
       "\"kitten would've been\\nhot stars with the best are\\nyou going at a championship\\n\""
      ]
     },
     "execution_count": 111,
     "metadata": {},
     "output_type": "execute_result"
    }
   ],
   "source": [
    "haiku_with_line_breaks"
   ]
  }
 ],
 "metadata": {
  "interpreter": {
   "hash": "0d9911e949d957b166ac47eb822026ea670e30d6fc8fe83864b9edf3856b806e"
  },
  "kernelspec": {
   "display_name": "Python 3.10.4 ('wsl-haiku-crafters': venv)",
   "language": "python",
   "name": "python3"
  },
  "language_info": {
   "codemirror_mode": {
    "name": "ipython",
    "version": 3
   },
   "file_extension": ".py",
   "mimetype": "text/x-python",
   "name": "python",
   "nbconvert_exporter": "python",
   "pygments_lexer": "ipython3",
   "version": "3.10.4"
  },
  "orig_nbformat": 4
 },
 "nbformat": 4,
 "nbformat_minor": 2
}
