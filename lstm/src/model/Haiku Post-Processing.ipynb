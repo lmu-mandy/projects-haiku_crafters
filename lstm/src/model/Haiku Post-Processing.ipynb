{
 "cells": [
  {
   "cell_type": "code",
   "execution_count": 5,
   "metadata": {},
   "outputs": [],
   "source": [
    "import torch\n",
    "import syllables\n",
    "from model import CharRNN, sample"
   ]
  },
  {
   "cell_type": "code",
   "execution_count": 6,
   "metadata": {},
   "outputs": [],
   "source": [
    "## Loading a checkpoint\n",
    "with open('./checkpoints/rnn (haikus).net', 'rb') as f:\n",
    "    checkpoint = torch.load(f)\n"
   ]
  },
  {
   "cell_type": "code",
   "execution_count": 7,
   "metadata": {},
   "outputs": [
    {
     "data": {
      "text/plain": [
       "<All keys matched successfully>"
      ]
     },
     "execution_count": 7,
     "metadata": {},
     "output_type": "execute_result"
    }
   ],
   "source": [
    "loaded = CharRNN(checkpoint['tokens'], n_hidden=checkpoint['n_hidden'], n_layers=checkpoint['n_layers'])\n",
    "loaded.load_state_dict(checkpoint['state_dict'])"
   ]
  },
  {
   "cell_type": "code",
   "execution_count": 12,
   "metadata": {},
   "outputs": [
    {
     "name": "stderr",
     "output_type": "stream",
     "text": [
      "c:\\Users\\brand\\Desktop\\Github Repos\\NLP\\projects-haiku_crafters\\lstm\\src\\model\\model.py:65: UserWarning: volatile was removed and now has no effect. Use `with torch.no_grad():` instead.\n",
      "  inputs = Variable(torch.from_numpy(x), volatile=True)\n",
      "c:\\Users\\brand\\Desktop\\Github Repos\\NLP\\projects-haiku_crafters\\lstm\\src\\model\\model.py:69: UserWarning: volatile was removed and now has no effect. Use `with torch.no_grad():` instead.\n",
      "  h = tuple([Variable(each.data, volatile=True) for each in h])\n",
      "c:\\Users\\brand\\Desktop\\Github Repos\\NLP\\projects-haiku_crafters\\lstm\\src\\model\\model.py:72: UserWarning: Implicit dimension choice for softmax has been deprecated. Change the call to include dim=X as an argument.\n",
      "  p = F.softmax(out).data\n"
     ]
    },
    {
     "data": {
      "text/plain": [
       "'waiting for me and straight and care\\nif they care about  that to be a life time to call'"
      ]
     },
     "execution_count": 12,
     "metadata": {},
     "output_type": "execute_result"
    }
   ],
   "source": [
    "haiku = sample(loaded, 75, cuda=True, top_k=5, prime=\"waiting for\")\n",
    "haiku"
   ]
  },
  {
   "cell_type": "code",
   "execution_count": 11,
   "metadata": {},
   "outputs": [
    {
     "data": {
      "text/plain": [
       "[2, 1, 1, 3, 1, 1, 3, 1, 1, 1, 1, 1, 2, 1, 1, 1]"
      ]
     },
     "execution_count": 11,
     "metadata": {},
     "output_type": "execute_result"
    }
   ],
   "source": [
    "haiku_syllables = [syllables.estimate(w) for w in haiku.split(\" \")]\n",
    "haiku_syllables"
   ]
  },
  {
   "cell_type": "code",
   "execution_count": 3,
   "metadata": {},
   "outputs": [
    {
     "ename": "NameError",
     "evalue": "name 'syllables' is not defined",
     "output_type": "error",
     "traceback": [
      "\u001b[1;31m---------------------------------------------------------------------------\u001b[0m",
      "\u001b[1;31mNameError\u001b[0m                                 Traceback (most recent call last)",
      "\u001b[1;32mc:\\Users\\brand\\Desktop\\Github Repos\\NLP\\projects-haiku_crafters\\lstm\\src\\model\\Haiku Post-Processing.ipynb Cell 4'\u001b[0m in \u001b[0;36m<cell line: 1>\u001b[1;34m()\u001b[0m\n\u001b[1;32m----> <a href='vscode-notebook-cell:/c%3A/Users/brand/Desktop/Github%20Repos/NLP/projects-haiku_crafters/lstm/src/model/Haiku%20Post-Processing.ipynb#ch0000003?line=0'>1</a>\u001b[0m syllables\u001b[39m.\u001b[39mestimate(\u001b[39m\"\u001b[39m\u001b[39mestimate\u001b[39m\u001b[39m\"\u001b[39m)\n\u001b[0;32m      <a href='vscode-notebook-cell:/c%3A/Users/brand/Desktop/Github%20Repos/NLP/projects-haiku_crafters/lstm/src/model/Haiku%20Post-Processing.ipynb#ch0000003?line=1'>2</a>\u001b[0m h \u001b[39m=\u001b[39m \u001b[39m\"\u001b[39m\u001b[39mwhose hiding white heart of the\u001b[39m\u001b[39m\"\u001b[39m\n\u001b[0;32m      <a href='vscode-notebook-cell:/c%3A/Users/brand/Desktop/Github%20Repos/NLP/projects-haiku_crafters/lstm/src/model/Haiku%20Post-Processing.ipynb#ch0000003?line=2'>3</a>\u001b[0m [syllables\u001b[39m.\u001b[39mestimate(w) \u001b[39mfor\u001b[39;00m w \u001b[39min\u001b[39;00m h\u001b[39m.\u001b[39msplit(\u001b[39m\"\u001b[39m\u001b[39m \u001b[39m\u001b[39m\"\u001b[39m)]\n",
      "\u001b[1;31mNameError\u001b[0m: name 'syllables' is not defined"
     ]
    }
   ],
   "source": [
    "syllables.estimate(\"estimate\")\n",
    "h = \"whose hiding white heart of the\"\n",
    "[syllables.estimate(w) for w in h.split(\" \")]\n"
   ]
  },
  {
   "cell_type": "code",
   "execution_count": 4,
   "metadata": {},
   "outputs": [
    {
     "ename": "NameError",
     "evalue": "name 'CharRNN' is not defined",
     "output_type": "error",
     "traceback": [
      "\u001b[1;31m---------------------------------------------------------------------------\u001b[0m",
      "\u001b[1;31mNameError\u001b[0m                                 Traceback (most recent call last)",
      "\u001b[1;32mc:\\Users\\brand\\Desktop\\Github Repos\\NLP\\projects-haiku_crafters\\lstm\\src\\model\\Haiku Post-Processing.ipynb Cell 5'\u001b[0m in \u001b[0;36m<cell line: 1>\u001b[1;34m()\u001b[0m\n\u001b[1;32m----> <a href='vscode-notebook-cell:/c%3A/Users/brand/Desktop/Github%20Repos/NLP/projects-haiku_crafters/lstm/src/model/Haiku%20Post-Processing.ipynb#ch0000004?line=0'>1</a>\u001b[0m loaded \u001b[39m=\u001b[39m CharRNN(checkpoint[\u001b[39m'\u001b[39m\u001b[39mtokens\u001b[39m\u001b[39m'\u001b[39m], n_hidden\u001b[39m=\u001b[39mcheckpoint[\u001b[39m'\u001b[39m\u001b[39mn_hidden\u001b[39m\u001b[39m'\u001b[39m], n_layers\u001b[39m=\u001b[39mcheckpoint[\u001b[39m'\u001b[39m\u001b[39mn_layers\u001b[39m\u001b[39m'\u001b[39m])\n\u001b[0;32m      <a href='vscode-notebook-cell:/c%3A/Users/brand/Desktop/Github%20Repos/NLP/projects-haiku_crafters/lstm/src/model/Haiku%20Post-Processing.ipynb#ch0000004?line=1'>2</a>\u001b[0m loaded\u001b[39m.\u001b[39mload_state_dict(checkpoint[\u001b[39m'\u001b[39m\u001b[39mstate_dict\u001b[39m\u001b[39m'\u001b[39m])\n\u001b[0;32m      <a href='vscode-notebook-cell:/c%3A/Users/brand/Desktop/Github%20Repos/NLP/projects-haiku_crafters/lstm/src/model/Haiku%20Post-Processing.ipynb#ch0000004?line=2'>3</a>\u001b[0m \u001b[39mprint\u001b[39m(sample(loaded, \u001b[39m75\u001b[39m, cuda\u001b[39m=\u001b[39m\u001b[39mTrue\u001b[39;00m, top_k\u001b[39m=\u001b[39m\u001b[39m10\u001b[39m, prime\u001b[39m=\u001b[39m\u001b[39m\"\u001b[39m\u001b[39mroses\u001b[39m\u001b[39m\"\u001b[39m))\n",
      "\u001b[1;31mNameError\u001b[0m: name 'CharRNN' is not defined"
     ]
    }
   ],
   "source": [
    "loaded = CharRNN(checkpoint['tokens'], n_hidden=checkpoint['n_hidden'], n_layers=checkpoint['n_layers'])\n",
    "loaded.load_state_dict(checkpoint['state_dict'])\n",
    "print(sample(loaded, 75, cuda=True, top_k=10, prime=\"roses\"))"
   ]
  }
 ],
 "metadata": {
  "interpreter": {
   "hash": "0d9911e949d957b166ac47eb822026ea670e30d6fc8fe83864b9edf3856b806e"
  },
  "kernelspec": {
   "display_name": "Python 3.10.4 ('wsl-haiku-crafters': venv)",
   "language": "python",
   "name": "python3"
  },
  "language_info": {
   "codemirror_mode": {
    "name": "ipython",
    "version": 3
   },
   "file_extension": ".py",
   "mimetype": "text/x-python",
   "name": "python",
   "nbconvert_exporter": "python",
   "pygments_lexer": "ipython3",
   "version": "3.10.4"
  },
  "orig_nbformat": 4
 },
 "nbformat": 4,
 "nbformat_minor": 2
}
